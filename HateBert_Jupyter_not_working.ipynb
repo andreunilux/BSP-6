{
 "cells": [
  {
   "cell_type": "code",
   "execution_count": 4,
   "id": "1d122036",
   "metadata": {},
   "outputs": [
    {
     "ename": "SyntaxError",
     "evalue": "trailing comma not allowed without surrounding parentheses (86588920.py, line 10)",
     "output_type": "error",
     "traceback": [
      "\u001b[1;36m  Cell \u001b[1;32mIn[4], line 10\u001b[1;36m\u001b[0m\n\u001b[1;33m    from transformers import AutoTokenizer, AutoModelForSequenceClassification, TrainingArguments, Trainer,\u001b[0m\n\u001b[1;37m                                                                                                           ^\u001b[0m\n\u001b[1;31mSyntaxError\u001b[0m\u001b[1;31m:\u001b[0m trailing comma not allowed without surrounding parentheses\n"
     ]
    }
   ],
   "source": [
    "# Pandas Dataframe Library\n",
    "import json\n",
    "import pandas as pd\n",
    "# Machine learning libraries\n",
    "import tensorflow as tf\n",
    "import keras\n",
    "import torch\n",
    "#Library used for fine tuning\n",
    "from transformers import Trainer, TrainingArguments\n",
    "from transformers import AutoTokenizer, AutoModelForSequenceClassification, TrainingArguments, Trainer\n",
    "# HateBert Libarary\n",
    "tokenizer = AutoTokenizer.from_pretrained(\"GroNLP/hateBERT\")\n",
    "\n",
    "\n",
    "def load_data():\n",
    "    # Open train jsonl file\n",
    "    with open('train.jsonl', 'r') as f:\n",
    "        train_data = [json.loads(line) for line in f.readlines()]\n",
    "\n",
    "    # Create a pandas DataFrame from the parsed json data\n",
    "    train_df = pd.DataFrame(train_data)\n",
    "\n",
    "    # Open validation jsonl file\n",
    "    with open('val.jsonl', 'r') as f:\n",
    "        val_data = [json.loads(line) for line in f.readlines()]\n",
    "\n",
    "    # Create a pandas DataFrame from the parsed json data\n",
    "    val_df = pd.DataFrame(val_data)\n",
    "\n",
    "    # Open test jsonl file\n",
    "    with open('test.jsonl', 'r') as f:\n",
    "        test_data = [json.loads(line) for line in f.readlines()]\n",
    "\n",
    "    # Create a pandas DataFrame from the parsed json data\n",
    "    test_df = pd.DataFrame(test_data)\n",
    "\n",
    "\n",
    "    return train_data, val_data, test_data\n"
   ]
  },
  {
   "cell_type": "code",
   "execution_count": 5,
   "id": "245c8976",
   "metadata": {},
   "outputs": [],
   "source": [
    "def tokenize_data(data):\n",
    "    tokenized_data = tokenizer(\n",
    "        data[\"context\"],\n",
    "        data[\"target\"],\n",
    "        padding=\"max_length\",\n",
    "        max_length=20,\n",
    "        truncation=True\n",
    "    )\n",
    "    tokenized_data[\"label\"] = int(data[\"label\"])\n",
    "    return tokenized_data\n",
    "\n",
    "def list_of_dicts_to_dict_of_lists(d):\n",
    "    dic = d[0]\n",
    "    keys = dic.keys()\n",
    "    values = [dic.values() for dic in d]\n",
    "    return {k: list(v) for k, v in zip(keys, zip(*values))}\n",
    "\n",
    "def load_tokenized_data():\n",
    "    train_data, val_data, test_data = load_data()\n",
    "    tokenized_train = list_of_dicts_to_dict_of_lists([tokenize_data(data) for data in train_data])\n",
    "    tokenized_val = list_of_dicts_to_dict_of_lists([tokenize_data(data) for data in val_data])\n",
    "    tokenized_test = list_of_dicts_to_dict_of_lists([tokenize_data(data) for data in test_data])\n",
    "    \n",
    "    \n",
    "    return tokenized_train, tokenized_val, tokenized_test\n",
    "\n",
    "\n",
    "\n",
    "\n",
    "\n",
    "\n",
    "tokenized_train_data, tokenized_val_data, tokenized_test_data = load_tokenized_data()\n",
    "\n",
    "# load pre-trained HateBert\n",
    "model = AutoModelForMaskedLM.from_pretrained(\"GroNLP/hateBERT\")\n"
   ]
  },
  {
   "cell_type": "code",
   "execution_count": 6,
   "id": "0628145f",
   "metadata": {
    "scrolled": true
   },
   "outputs": [
    {
     "ename": "NameError",
     "evalue": "name 'TrainingArguments' is not defined",
     "output_type": "error",
     "traceback": [
      "\u001b[1;31m---------------------------------------------------------------------------\u001b[0m",
      "\u001b[1;31mNameError\u001b[0m                                 Traceback (most recent call last)",
      "Cell \u001b[1;32mIn[6], line 10\u001b[0m\n\u001b[0;32m      5\u001b[0m eval_dataset \u001b[38;5;241m=\u001b[39m tf\u001b[38;5;241m.\u001b[39mdata\u001b[38;5;241m.\u001b[39mDataset\u001b[38;5;241m.\u001b[39mfrom_tensor_slices(tokenized_val_data)\n\u001b[0;32m      9\u001b[0m \u001b[38;5;66;03m# Define the training arguments for the Trainer\u001b[39;00m\n\u001b[1;32m---> 10\u001b[0m training_args \u001b[38;5;241m=\u001b[39m \u001b[43mTrainingArguments\u001b[49m(\n\u001b[0;32m     11\u001b[0m     output_dir\u001b[38;5;241m=\u001b[39m\u001b[38;5;124m'\u001b[39m\u001b[38;5;124m./results\u001b[39m\u001b[38;5;124m'\u001b[39m,           \u001b[38;5;66;03m# output directory\u001b[39;00m\n\u001b[0;32m     12\u001b[0m     num_train_epochs\u001b[38;5;241m=\u001b[39m\u001b[38;5;241m5\u001b[39m,               \u001b[38;5;66;03m# total number of training epochs\u001b[39;00m\n\u001b[0;32m     13\u001b[0m     per_device_train_batch_size\u001b[38;5;241m=\u001b[39m\u001b[38;5;241m20\u001b[39m,   \u001b[38;5;66;03m# batch size per device during training\u001b[39;00m\n\u001b[0;32m     14\u001b[0m     per_device_eval_batch_size\u001b[38;5;241m=\u001b[39m\u001b[38;5;241m8\u001b[39m,   \u001b[38;5;66;03m# batch size for evaluation\u001b[39;00m\n\u001b[0;32m     15\u001b[0m )\n\u001b[0;32m     20\u001b[0m trainer \u001b[38;5;241m=\u001b[39m Trainer(\n\u001b[0;32m     21\u001b[0m     model\u001b[38;5;241m=\u001b[39mmodel,\n\u001b[0;32m     22\u001b[0m     args\u001b[38;5;241m=\u001b[39mtraining_args,\n\u001b[0;32m     23\u001b[0m     train_dataset\u001b[38;5;241m=\u001b[39mtrain_dataset,\n\u001b[0;32m     24\u001b[0m     eval_dataset\u001b[38;5;241m=\u001b[39meval_dataset\n\u001b[0;32m     25\u001b[0m )\n\u001b[0;32m     27\u001b[0m trainer\u001b[38;5;241m.\u001b[39mtrain()\n",
      "\u001b[1;31mNameError\u001b[0m: name 'TrainingArguments' is not defined"
     ]
    }
   ],
   "source": [
    "\n",
    "\n",
    "# Define the training and validation datasets using DataLoader\n",
    "\n",
    "\n",
    "train_dataset = tf.data.Dataset.from_tensor_slices(tokenized_train_data)\n",
    "eval_dataset = tf.data.Dataset.from_tensor_slices(tokenized_val_data)\n",
    "\n",
    "\n",
    "\n",
    "# Define the training arguments for the Trainer\n",
    "training_args = TrainingArguments(\n",
    "    output_dir='./results',           # output directory\n",
    "    num_train_epochs=5,               # total number of training epochs\n",
    "    per_device_train_batch_size=20,   # batch size per device during training\n",
    "    per_device_eval_batch_size=8,   # batch size for evaluation\n",
    ")\n",
    "\n",
    "\n",
    "\n",
    "\n",
    "trainer = Trainer(\n",
    "    model=model,\n",
    "    args=training_args,\n",
    "    train_dataset=train_dataset,\n",
    "    eval_dataset=eval_dataset\n",
    ")\n",
    "\n",
    "trainer.train()\n"
   ]
  },
  {
   "cell_type": "code",
   "execution_count": null,
   "id": "0d75a3af",
   "metadata": {},
   "outputs": [],
   "source": [
    "\n"
   ]
  },
  {
   "cell_type": "code",
   "execution_count": null,
   "id": "4a928ff2",
   "metadata": {},
   "outputs": [],
   "source": []
  }
 ],
 "metadata": {
  "kernelspec": {
   "display_name": "Python 3 (ipykernel)",
   "language": "python",
   "name": "python3"
  },
  "language_info": {
   "codemirror_mode": {
    "name": "ipython",
    "version": 3
   },
   "file_extension": ".py",
   "mimetype": "text/x-python",
   "name": "python",
   "nbconvert_exporter": "python",
   "pygments_lexer": "ipython3",
   "version": "3.10.10"
  }
 },
 "nbformat": 4,
 "nbformat_minor": 5
}
